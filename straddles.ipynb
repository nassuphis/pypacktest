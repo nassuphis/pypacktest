{
 "cells": [
  {
   "cell_type": "code",
   "execution_count": 2,
   "id": "dec55a17",
   "metadata": {
    "lines_to_next_cell": 0
   },
   "outputs": [],
   "source": [
    "import straddle_activity as straddle\n",
    "rs1 = \"result_nick_20250115_prod_0024\"\n",
    "rs2 = \"result_nick_20250121_stagger_7299\"\n",
    "straddle.result_set = rs1\n"
   ]
  },
  {
   "cell_type": "code",
   "execution_count": 3,
   "id": "39456912",
   "metadata": {},
   "outputs": [
    {
     "data": {
      "text/html": [
       "<div>\n",
       "<style scoped>\n",
       "    .dataframe tbody tr th:only-of-type {\n",
       "        vertical-align: middle;\n",
       "    }\n",
       "\n",
       "    .dataframe tbody tr th {\n",
       "        vertical-align: top;\n",
       "    }\n",
       "\n",
       "    .dataframe thead th {\n",
       "        text-align: right;\n",
       "    }\n",
       "</style>\n",
       "<table border=\"1\" class=\"dataframe\">\n",
       "  <thead>\n",
       "    <tr style=\"text-align: right;\">\n",
       "      <th></th>\n",
       "      <th>Underlying</th>\n",
       "      <th>entry_date</th>\n",
       "      <th>expiry_date</th>\n",
       "      <th>straddle</th>\n",
       "    </tr>\n",
       "  </thead>\n",
       "  <tbody>\n",
       "    <tr>\n",
       "      <th>0</th>\n",
       "      <td>AAPL US Equity</td>\n",
       "      <td>2024-11-01</td>\n",
       "      <td>2024-12-20</td>\n",
       "      <td>|2024-10|2024-12|F|10|F|3|12.50|</td>\n",
       "    </tr>\n",
       "    <tr>\n",
       "      <th>1</th>\n",
       "      <td>AAPL US Equity</td>\n",
       "      <td>2024-11-08</td>\n",
       "      <td>2024-12-20</td>\n",
       "      <td>|2024-10|2024-12|F|15|F|3|12.50|</td>\n",
       "    </tr>\n",
       "    <tr>\n",
       "      <th>2</th>\n",
       "      <td>AAPL US Equity</td>\n",
       "      <td>2025-01-07</td>\n",
       "      <td>2025-02-21</td>\n",
       "      <td>|2024-12|2025-02|F|10|F|3|12.50|</td>\n",
       "    </tr>\n",
       "    <tr>\n",
       "      <th>3</th>\n",
       "      <td>ABBV US Equity</td>\n",
       "      <td>2024-11-01</td>\n",
       "      <td>2024-12-20</td>\n",
       "      <td>|2024-10|2024-12|F|10|F|3|12.50|</td>\n",
       "    </tr>\n",
       "    <tr>\n",
       "      <th>4</th>\n",
       "      <td>ABBV US Equity</td>\n",
       "      <td>2024-11-08</td>\n",
       "      <td>2024-12-20</td>\n",
       "      <td>|2024-10|2024-12|F|15|F|3|12.50|</td>\n",
       "    </tr>\n",
       "    <tr>\n",
       "      <th>...</th>\n",
       "      <td>...</td>\n",
       "      <td>...</td>\n",
       "      <td>...</td>\n",
       "      <td>...</td>\n",
       "    </tr>\n",
       "    <tr>\n",
       "      <th>318</th>\n",
       "      <td>CVX US Equity</td>\n",
       "      <td>2025-01-15</td>\n",
       "      <td>2025-02-21</td>\n",
       "      <td>|2024-12|2025-02|F|15|F|3|12.50|</td>\n",
       "    </tr>\n",
       "    <tr>\n",
       "      <th>319</th>\n",
       "      <td>DAX Index</td>\n",
       "      <td>2025-01-17</td>\n",
       "      <td>2025-02-21</td>\n",
       "      <td>|2024-12|2025-02|F|15|F|3|12.50|</td>\n",
       "    </tr>\n",
       "    <tr>\n",
       "      <th>320</th>\n",
       "      <td>NFLX US Equity</td>\n",
       "      <td>2025-01-15</td>\n",
       "      <td>2025-02-21</td>\n",
       "      <td>|2024-12|2025-02|F|15|F|3|12.50|</td>\n",
       "    </tr>\n",
       "    <tr>\n",
       "      <th>321</th>\n",
       "      <td>BAC US Equity</td>\n",
       "      <td>2025-01-15</td>\n",
       "      <td>2025-02-21</td>\n",
       "      <td>|2024-12|2025-02|F|15|F|3|12.50|</td>\n",
       "    </tr>\n",
       "    <tr>\n",
       "      <th>322</th>\n",
       "      <td>LQD US Equity</td>\n",
       "      <td>2025-01-15</td>\n",
       "      <td>2025-02-21</td>\n",
       "      <td>|2024-12|2025-02|F|15|F|3|12.50|</td>\n",
       "    </tr>\n",
       "  </tbody>\n",
       "</table>\n",
       "<p>323 rows × 4 columns</p>\n",
       "</div>"
      ],
      "text/plain": [
       "         Underlying entry_date expiry_date                          straddle\n",
       "0    AAPL US Equity 2024-11-01  2024-12-20  |2024-10|2024-12|F|10|F|3|12.50|\n",
       "1    AAPL US Equity 2024-11-08  2024-12-20  |2024-10|2024-12|F|15|F|3|12.50|\n",
       "2    AAPL US Equity 2025-01-07  2025-02-21  |2024-12|2025-02|F|10|F|3|12.50|\n",
       "3    ABBV US Equity 2024-11-01  2024-12-20  |2024-10|2024-12|F|10|F|3|12.50|\n",
       "4    ABBV US Equity 2024-11-08  2024-12-20  |2024-10|2024-12|F|15|F|3|12.50|\n",
       "..              ...        ...         ...                               ...\n",
       "318   CVX US Equity 2025-01-15  2025-02-21  |2024-12|2025-02|F|15|F|3|12.50|\n",
       "319       DAX Index 2025-01-17  2025-02-21  |2024-12|2025-02|F|15|F|3|12.50|\n",
       "320  NFLX US Equity 2025-01-15  2025-02-21  |2024-12|2025-02|F|15|F|3|12.50|\n",
       "321   BAC US Equity 2025-01-15  2025-02-21  |2024-12|2025-02|F|15|F|3|12.50|\n",
       "322   LQD US Equity 2025-01-15  2025-02-21  |2024-12|2025-02|F|15|F|3|12.50|\n",
       "\n",
       "[323 rows x 4 columns]"
      ]
     },
     "metadata": {},
     "output_type": "display_data"
    }
   ],
   "source": [
    "import pandas as pd\n",
    "import duckdb as ddb\n",
    "import IPython\n",
    "rs1 = \"result_nick_20250115_prod_0024\"\n",
    "straddle.result_set = rs1\n",
    "res = straddle.out_backtest(\"2024-12\")\n",
    "IPython.display.display(res)"
   ]
  },
  {
   "cell_type": "code",
   "execution_count": 2,
   "id": "6c1f474e",
   "metadata": {},
   "outputs": [
    {
     "data": {
      "text/html": [
       "<div>\n",
       "<style scoped>\n",
       "    .dataframe tbody tr th:only-of-type {\n",
       "        vertical-align: middle;\n",
       "    }\n",
       "\n",
       "    .dataframe tbody tr th {\n",
       "        vertical-align: top;\n",
       "    }\n",
       "\n",
       "    .dataframe thead th {\n",
       "        text-align: right;\n",
       "    }\n",
       "</style>\n",
       "<table border=\"1\" class=\"dataframe\">\n",
       "  <thead>\n",
       "    <tr style=\"text-align: right;\">\n",
       "      <th></th>\n",
       "      <th>Underlying</th>\n",
       "      <th>month</th>\n",
       "      <th>date</th>\n",
       "      <th>activity</th>\n",
       "      <th>straddle</th>\n",
       "    </tr>\n",
       "  </thead>\n",
       "  <tbody>\n",
       "    <tr>\n",
       "      <th>0</th>\n",
       "      <td>GBPUSD Curncy</td>\n",
       "      <td>2025-01</td>\n",
       "      <td>2025-01-06</td>\n",
       "      <td>entry</td>\n",
       "      <td>|2025-01|2025-02|N|00|BD|4|25.00|</td>\n",
       "    </tr>\n",
       "    <tr>\n",
       "      <th>1</th>\n",
       "      <td>GBPUSD Curncy</td>\n",
       "      <td>2025-01</td>\n",
       "      <td>2025-01-06</td>\n",
       "      <td>expiry</td>\n",
       "      <td>|2024-12|2025-01|N|00|BD|4|25.00|</td>\n",
       "    </tr>\n",
       "    <tr>\n",
       "      <th>2</th>\n",
       "      <td>GBPUSD Curncy</td>\n",
       "      <td>2025-01</td>\n",
       "      <td>2025-01-10</td>\n",
       "      <td>entry</td>\n",
       "      <td>|2025-01|2025-02|N|00|BD|8|25.00|</td>\n",
       "    </tr>\n",
       "    <tr>\n",
       "      <th>3</th>\n",
       "      <td>GBPUSD Curncy</td>\n",
       "      <td>2025-01</td>\n",
       "      <td>2025-01-10</td>\n",
       "      <td>expiry</td>\n",
       "      <td>|2024-12|2025-01|N|00|BD|8|25.00|</td>\n",
       "    </tr>\n",
       "    <tr>\n",
       "      <th>4</th>\n",
       "      <td>GBPUSD Curncy</td>\n",
       "      <td>2025-01</td>\n",
       "      <td>2025-01-16</td>\n",
       "      <td>entry</td>\n",
       "      <td>|2025-01|2025-02|N|00|BD|12|25.00|</td>\n",
       "    </tr>\n",
       "    <tr>\n",
       "      <th>5</th>\n",
       "      <td>GBPUSD Curncy</td>\n",
       "      <td>2025-01</td>\n",
       "      <td>2025-01-16</td>\n",
       "      <td>expiry</td>\n",
       "      <td>|2024-12|2025-01|N|00|BD|12|25.00|</td>\n",
       "    </tr>\n",
       "    <tr>\n",
       "      <th>6</th>\n",
       "      <td>GBPUSD Curncy</td>\n",
       "      <td>2025-01</td>\n",
       "      <td>2025-01-22</td>\n",
       "      <td>entry</td>\n",
       "      <td>|2025-01|2025-02|N|00|BD|16|25.00|</td>\n",
       "    </tr>\n",
       "    <tr>\n",
       "      <th>7</th>\n",
       "      <td>GBPUSD Curncy</td>\n",
       "      <td>2025-01</td>\n",
       "      <td>2025-01-22</td>\n",
       "      <td>expiry</td>\n",
       "      <td>|2024-12|2025-01|N|00|BD|16|25.00|</td>\n",
       "    </tr>\n",
       "  </tbody>\n",
       "</table>\n",
       "</div>"
      ],
      "text/plain": [
       "      Underlying    month       date activity  \\\n",
       "0  GBPUSD Curncy  2025-01 2025-01-06    entry   \n",
       "1  GBPUSD Curncy  2025-01 2025-01-06   expiry   \n",
       "2  GBPUSD Curncy  2025-01 2025-01-10    entry   \n",
       "3  GBPUSD Curncy  2025-01 2025-01-10   expiry   \n",
       "4  GBPUSD Curncy  2025-01 2025-01-16    entry   \n",
       "5  GBPUSD Curncy  2025-01 2025-01-16   expiry   \n",
       "6  GBPUSD Curncy  2025-01 2025-01-22    entry   \n",
       "7  GBPUSD Curncy  2025-01 2025-01-22   expiry   \n",
       "\n",
       "                             straddle  \n",
       "0   |2025-01|2025-02|N|00|BD|4|25.00|  \n",
       "1   |2024-12|2025-01|N|00|BD|4|25.00|  \n",
       "2   |2025-01|2025-02|N|00|BD|8|25.00|  \n",
       "3   |2024-12|2025-01|N|00|BD|8|25.00|  \n",
       "4  |2025-01|2025-02|N|00|BD|12|25.00|  \n",
       "5  |2024-12|2025-01|N|00|BD|12|25.00|  \n",
       "6  |2025-01|2025-02|N|00|BD|16|25.00|  \n",
       "7  |2024-12|2025-01|N|00|BD|16|25.00|  "
      ]
     },
     "metadata": {},
     "output_type": "display_data"
    }
   ],
   "source": [
    "straddle.show(straddle.activity(\"GBPUSD Curncy\",\"2025-01\"))"
   ]
  },
  {
   "cell_type": "code",
   "execution_count": 4,
   "id": "e82d8000",
   "metadata": {},
   "outputs": [
    {
     "data": {
      "text/html": [
       "<div>\n",
       "<style scoped>\n",
       "    .dataframe tbody tr th:only-of-type {\n",
       "        vertical-align: middle;\n",
       "    }\n",
       "\n",
       "    .dataframe tbody tr th {\n",
       "        vertical-align: top;\n",
       "    }\n",
       "\n",
       "    .dataframe thead th {\n",
       "        text-align: right;\n",
       "    }\n",
       "</style>\n",
       "<table border=\"1\" class=\"dataframe\">\n",
       "  <thead>\n",
       "    <tr style=\"text-align: right;\">\n",
       "      <th></th>\n",
       "      <th>Underlying</th>\n",
       "      <th>month</th>\n",
       "      <th>date</th>\n",
       "      <th>activity</th>\n",
       "      <th>straddle</th>\n",
       "    </tr>\n",
       "  </thead>\n",
       "  <tbody>\n",
       "    <tr>\n",
       "      <th>0</th>\n",
       "      <td>AAPL US Equity</td>\n",
       "      <td>2024-12</td>\n",
       "      <td>2025-01-07</td>\n",
       "      <td>entry</td>\n",
       "      <td>|2024-12|2025-02|F|10|F|3|12.50|</td>\n",
       "    </tr>\n",
       "    <tr>\n",
       "      <th>1</th>\n",
       "      <td>AAPL US Equity</td>\n",
       "      <td>2024-12</td>\n",
       "      <td>2025-01-15</td>\n",
       "      <td>entry</td>\n",
       "      <td>|2024-12|2025-02|F|15|F|3|12.50|</td>\n",
       "    </tr>\n",
       "    <tr>\n",
       "      <th>2</th>\n",
       "      <td>ABBV US Equity</td>\n",
       "      <td>2024-12</td>\n",
       "      <td>2025-01-07</td>\n",
       "      <td>entry</td>\n",
       "      <td>|2024-12|2025-02|F|10|F|3|12.50|</td>\n",
       "    </tr>\n",
       "    <tr>\n",
       "      <th>3</th>\n",
       "      <td>ABBV US Equity</td>\n",
       "      <td>2024-12</td>\n",
       "      <td>2025-01-15</td>\n",
       "      <td>entry</td>\n",
       "      <td>|2024-12|2025-02|F|15|F|3|12.50|</td>\n",
       "    </tr>\n",
       "    <tr>\n",
       "      <th>4</th>\n",
       "      <td>ABNB US Equity</td>\n",
       "      <td>2024-12</td>\n",
       "      <td>2025-01-07</td>\n",
       "      <td>entry</td>\n",
       "      <td>|2024-12|2025-02|F|10|F|3|12.50|</td>\n",
       "    </tr>\n",
       "    <tr>\n",
       "      <th>...</th>\n",
       "      <td>...</td>\n",
       "      <td>...</td>\n",
       "      <td>...</td>\n",
       "      <td>...</td>\n",
       "      <td>...</td>\n",
       "    </tr>\n",
       "    <tr>\n",
       "      <th>173</th>\n",
       "      <td>WFC US Equity</td>\n",
       "      <td>2024-12</td>\n",
       "      <td>2025-01-15</td>\n",
       "      <td>entry</td>\n",
       "      <td>|2024-12|2025-02|F|15|F|3|12.50|</td>\n",
       "    </tr>\n",
       "    <tr>\n",
       "      <th>174</th>\n",
       "      <td>WMT US Equity</td>\n",
       "      <td>2024-12</td>\n",
       "      <td>2025-01-07</td>\n",
       "      <td>entry</td>\n",
       "      <td>|2024-12|2025-02|F|10|F|3|12.50|</td>\n",
       "    </tr>\n",
       "    <tr>\n",
       "      <th>175</th>\n",
       "      <td>WMT US Equity</td>\n",
       "      <td>2024-12</td>\n",
       "      <td>2025-01-15</td>\n",
       "      <td>entry</td>\n",
       "      <td>|2024-12|2025-02|F|15|F|3|12.50|</td>\n",
       "    </tr>\n",
       "    <tr>\n",
       "      <th>176</th>\n",
       "      <td>XOM US Equity</td>\n",
       "      <td>2024-12</td>\n",
       "      <td>2025-01-07</td>\n",
       "      <td>entry</td>\n",
       "      <td>|2024-12|2025-02|F|10|F|3|12.50|</td>\n",
       "    </tr>\n",
       "    <tr>\n",
       "      <th>177</th>\n",
       "      <td>XOM US Equity</td>\n",
       "      <td>2024-12</td>\n",
       "      <td>2025-01-15</td>\n",
       "      <td>entry</td>\n",
       "      <td>|2024-12|2025-02|F|15|F|3|12.50|</td>\n",
       "    </tr>\n",
       "  </tbody>\n",
       "</table>\n",
       "<p>178 rows × 5 columns</p>\n",
       "</div>"
      ],
      "text/plain": [
       "         Underlying    month       date activity  \\\n",
       "0    AAPL US Equity  2024-12 2025-01-07    entry   \n",
       "1    AAPL US Equity  2024-12 2025-01-15    entry   \n",
       "2    ABBV US Equity  2024-12 2025-01-07    entry   \n",
       "3    ABBV US Equity  2024-12 2025-01-15    entry   \n",
       "4    ABNB US Equity  2024-12 2025-01-07    entry   \n",
       "..              ...      ...        ...      ...   \n",
       "173   WFC US Equity  2024-12 2025-01-15    entry   \n",
       "174   WMT US Equity  2024-12 2025-01-07    entry   \n",
       "175   WMT US Equity  2024-12 2025-01-15    entry   \n",
       "176   XOM US Equity  2024-12 2025-01-07    entry   \n",
       "177   XOM US Equity  2024-12 2025-01-15    entry   \n",
       "\n",
       "                             straddle  \n",
       "0    |2024-12|2025-02|F|10|F|3|12.50|  \n",
       "1    |2024-12|2025-02|F|15|F|3|12.50|  \n",
       "2    |2024-12|2025-02|F|10|F|3|12.50|  \n",
       "3    |2024-12|2025-02|F|15|F|3|12.50|  \n",
       "4    |2024-12|2025-02|F|10|F|3|12.50|  \n",
       "..                                ...  \n",
       "173  |2024-12|2025-02|F|15|F|3|12.50|  \n",
       "174  |2024-12|2025-02|F|10|F|3|12.50|  \n",
       "175  |2024-12|2025-02|F|15|F|3|12.50|  \n",
       "176  |2024-12|2025-02|F|10|F|3|12.50|  \n",
       "177  |2024-12|2025-02|F|15|F|3|12.50|  \n",
       "\n",
       "[178 rows x 5 columns]"
      ]
     },
     "metadata": {},
     "output_type": "display_data"
    }
   ],
   "source": [
    "straddle.show(straddle.out_activity(\"2024-12\"))"
   ]
  },
  {
   "cell_type": "code",
   "execution_count": 4,
   "id": "4706f43a",
   "metadata": {},
   "outputs": [
    {
     "data": {
      "text/latex": [
       "\\begin{tabular}{llllll}\n",
       "\\toprule\n",
       " & Underlying & month & date & activity & straddle \\\\\n",
       "\\midrule\n",
       "0 & GBPUSD Curncy & 2024-11 & 2024-11-06 & entry & |2024-11|2024-12|N|00|BD|4|25.00| \\\\\n",
       "1 & GBPUSD Curncy & 2024-11 & 2024-11-06 & expiry & |2024-10|2024-11|N|00|BD|4|25.00| \\\\\n",
       "2 & GBPUSD Curncy & 2024-11 & 2024-11-12 & entry & |2024-11|2024-12|N|00|BD|8|25.00| \\\\\n",
       "3 & GBPUSD Curncy & 2024-11 & 2024-11-12 & expiry & |2024-10|2024-11|N|00|BD|8|25.00| \\\\\n",
       "4 & GBPUSD Curncy & 2024-11 & 2024-11-18 & entry & |2024-11|2024-12|N|00|BD|12|25.00| \\\\\n",
       "5 & GBPUSD Curncy & 2024-11 & 2024-11-18 & expiry & |2024-10|2024-11|N|00|BD|12|25.00| \\\\\n",
       "6 & GBPUSD Curncy & 2024-11 & 2024-11-22 & entry & |2024-11|2024-12|N|00|BD|16|25.00| \\\\\n",
       "7 & GBPUSD Curncy & 2024-11 & 2024-11-22 & expiry & |2024-10|2024-11|N|00|BD|16|25.00| \\\\\n",
       "\\bottomrule\n",
       "\\end{tabular}\n"
      ],
      "text/plain": [
       "<IPython.core.display.Latex object>"
      ]
     },
     "metadata": {},
     "output_type": "display_data"
    }
   ],
   "source": [
    "straddle.show(straddle.activity(\"GBPUSD Curncy\",\"2024-11\"))"
   ]
  },
  {
   "cell_type": "code",
   "execution_count": 5,
   "id": "c27aaef1",
   "metadata": {},
   "outputs": [
    {
     "data": {
      "text/latex": [
       "\\begin{tabular}{llllll}\n",
       "\\toprule\n",
       " & Underlying & month & date & activity & straddle \\\\\n",
       "\\midrule\n",
       "0 & GBPUSD Curncy & 2024-10 & 2024-10-04 & entry & |2024-10|2024-11|N|00|BD|4|25.00| \\\\\n",
       "1 & GBPUSD Curncy & 2024-10 & 2024-10-04 & expiry & |2024-09|2024-10|N|00|BD|4|25.00| \\\\\n",
       "2 & GBPUSD Curncy & 2024-10 & 2024-10-10 & entry & |2024-10|2024-11|N|00|BD|8|25.00| \\\\\n",
       "3 & GBPUSD Curncy & 2024-10 & 2024-10-10 & expiry & |2024-09|2024-10|N|00|BD|8|25.00| \\\\\n",
       "4 & GBPUSD Curncy & 2024-10 & 2024-10-16 & entry & |2024-10|2024-11|N|00|BD|12|25.00| \\\\\n",
       "5 & GBPUSD Curncy & 2024-10 & 2024-10-16 & expiry & |2024-09|2024-10|N|00|BD|12|25.00| \\\\\n",
       "6 & GBPUSD Curncy & 2024-10 & 2024-10-22 & entry & |2024-10|2024-11|N|00|BD|16|25.00| \\\\\n",
       "7 & GBPUSD Curncy & 2024-10 & 2024-10-22 & expiry & |2024-09|2024-10|N|00|BD|16|25.00| \\\\\n",
       "\\bottomrule\n",
       "\\end{tabular}\n"
      ],
      "text/plain": [
       "<IPython.core.display.Latex object>"
      ]
     },
     "metadata": {},
     "output_type": "display_data"
    }
   ],
   "source": [
    "straddle.show(straddle.activity(\"GBPUSD Curncy\",\"2024-10\"))"
   ]
  },
  {
   "cell_type": "markdown",
   "id": "a2c8b29f",
   "metadata": {},
   "source": [
    "## EURUSD"
   ]
  },
  {
   "cell_type": "code",
   "execution_count": 6,
   "id": "2e6fc890",
   "metadata": {},
   "outputs": [
    {
     "data": {
      "text/latex": [
       "\\begin{tabular}{llllll}\n",
       "\\toprule\n",
       " & Underlying & month & date & activity & straddle \\\\\n",
       "\\midrule\n",
       "0 & EURUSD Curncy & 2025-01 & 2025-01-03 & entry & |2025-01|2025-02|N|00|BD|3|25.00| \\\\\n",
       "1 & EURUSD Curncy & 2025-01 & 2025-01-03 & expiry & |2024-12|2025-01|N|00|BD|3|25.00| \\\\\n",
       "2 & EURUSD Curncy & 2025-01 & 2025-01-09 & entry & |2025-01|2025-02|N|00|BD|7|25.00| \\\\\n",
       "3 & EURUSD Curncy & 2025-01 & 2025-01-09 & expiry & |2024-12|2025-01|N|00|BD|7|25.00| \\\\\n",
       "4 & EURUSD Curncy & 2025-01 & 2025-01-15 & entry & |2025-01|2025-02|N|00|BD|11|25.00| \\\\\n",
       "5 & EURUSD Curncy & 2025-01 & 2025-01-15 & expiry & |2024-12|2025-01|N|00|BD|11|25.00| \\\\\n",
       "6 & EURUSD Curncy & 2025-01 & 2025-01-21 & entry & |2025-01|2025-02|N|00|BD|15|25.00| \\\\\n",
       "7 & EURUSD Curncy & 2025-01 & 2025-01-21 & expiry & |2024-12|2025-01|N|00|BD|15|25.00| \\\\\n",
       "\\bottomrule\n",
       "\\end{tabular}\n"
      ],
      "text/plain": [
       "<IPython.core.display.Latex object>"
      ]
     },
     "metadata": {},
     "output_type": "display_data"
    }
   ],
   "source": [
    "straddle.show(straddle.activity(\"EURUSD Curncy\",\"2025-01\"))"
   ]
  },
  {
   "cell_type": "code",
   "execution_count": 7,
   "id": "428dcdff",
   "metadata": {},
   "outputs": [
    {
     "data": {
      "text/latex": [
       "\\begin{tabular}{llllll}\n",
       "\\toprule\n",
       " & Underlying & month & date & activity & straddle \\\\\n",
       "\\midrule\n",
       "0 & EURUSD Curncy & 2024-12 & 2024-12-04 & entry & |2024-12|2025-01|N|00|BD|3|25.00| \\\\\n",
       "1 & EURUSD Curncy & 2024-12 & 2024-12-04 & expiry & |2024-11|2024-12|N|00|BD|3|25.00| \\\\\n",
       "2 & EURUSD Curncy & 2024-12 & 2024-12-10 & entry & |2024-12|2025-01|N|00|BD|7|25.00| \\\\\n",
       "3 & EURUSD Curncy & 2024-12 & 2024-12-10 & expiry & |2024-11|2024-12|N|00|BD|7|25.00| \\\\\n",
       "4 & EURUSD Curncy & 2024-12 & 2024-12-16 & entry & |2024-12|2025-01|N|00|BD|11|25.00| \\\\\n",
       "5 & EURUSD Curncy & 2024-12 & 2024-12-16 & expiry & |2024-11|2024-12|N|00|BD|11|25.00| \\\\\n",
       "6 & EURUSD Curncy & 2024-12 & 2024-12-20 & entry & |2024-12|2025-01|N|00|BD|15|25.00| \\\\\n",
       "7 & EURUSD Curncy & 2024-12 & 2024-12-20 & expiry & |2024-11|2024-12|N|00|BD|15|25.00| \\\\\n",
       "\\bottomrule\n",
       "\\end{tabular}\n"
      ],
      "text/plain": [
       "<IPython.core.display.Latex object>"
      ]
     },
     "metadata": {},
     "output_type": "display_data"
    }
   ],
   "source": [
    "straddle.show(straddle.activity(\"EURUSD Curncy\",\"2024-12\"))"
   ]
  },
  {
   "cell_type": "code",
   "execution_count": 8,
   "id": "34bb34a9",
   "metadata": {},
   "outputs": [
    {
     "data": {
      "text/latex": [
       "\\begin{tabular}{llllll}\n",
       "\\toprule\n",
       " & Underlying & month & date & activity & straddle \\\\\n",
       "\\midrule\n",
       "0 & EURUSD Curncy & 2024-11 & 2024-11-05 & entry & |2024-11|2024-12|N|00|BD|3|25.00| \\\\\n",
       "1 & EURUSD Curncy & 2024-11 & 2024-11-05 & expiry & |2024-10|2024-11|N|00|BD|3|25.00| \\\\\n",
       "2 & EURUSD Curncy & 2024-11 & 2024-11-11 & entry & |2024-11|2024-12|N|00|BD|7|25.00| \\\\\n",
       "3 & EURUSD Curncy & 2024-11 & 2024-11-11 & expiry & |2024-10|2024-11|N|00|BD|7|25.00| \\\\\n",
       "4 & EURUSD Curncy & 2024-11 & 2024-11-15 & entry & |2024-11|2024-12|N|00|BD|11|25.00| \\\\\n",
       "5 & EURUSD Curncy & 2024-11 & 2024-11-15 & expiry & |2024-10|2024-11|N|00|BD|11|25.00| \\\\\n",
       "6 & EURUSD Curncy & 2024-11 & 2024-11-21 & entry & |2024-11|2024-12|N|00|BD|15|25.00| \\\\\n",
       "7 & EURUSD Curncy & 2024-11 & 2024-11-21 & expiry & |2024-10|2024-11|N|00|BD|15|25.00| \\\\\n",
       "\\bottomrule\n",
       "\\end{tabular}\n"
      ],
      "text/plain": [
       "<IPython.core.display.Latex object>"
      ]
     },
     "metadata": {},
     "output_type": "display_data"
    }
   ],
   "source": [
    "straddle.show(straddle.activity(\"EURUSD Curncy\",\"2024-11\"))"
   ]
  },
  {
   "cell_type": "code",
   "execution_count": 9,
   "id": "54f8e2ba",
   "metadata": {},
   "outputs": [
    {
     "data": {
      "text/latex": [
       "\\begin{tabular}{llllll}\n",
       "\\toprule\n",
       " & Underlying & month & date & activity & straddle \\\\\n",
       "\\midrule\n",
       "0 & EURUSD Curncy & 2024-10 & 2024-10-03 & entry & |2024-10|2024-11|N|00|BD|3|25.00| \\\\\n",
       "1 & EURUSD Curncy & 2024-10 & 2024-10-03 & expiry & |2024-09|2024-10|N|00|BD|3|25.00| \\\\\n",
       "2 & EURUSD Curncy & 2024-10 & 2024-10-09 & entry & |2024-10|2024-11|N|00|BD|7|25.00| \\\\\n",
       "3 & EURUSD Curncy & 2024-10 & 2024-10-09 & expiry & |2024-09|2024-10|N|00|BD|7|25.00| \\\\\n",
       "4 & EURUSD Curncy & 2024-10 & 2024-10-15 & entry & |2024-10|2024-11|N|00|BD|11|25.00| \\\\\n",
       "5 & EURUSD Curncy & 2024-10 & 2024-10-15 & expiry & |2024-09|2024-10|N|00|BD|11|25.00| \\\\\n",
       "6 & EURUSD Curncy & 2024-10 & 2024-10-21 & entry & |2024-10|2024-11|N|00|BD|15|25.00| \\\\\n",
       "7 & EURUSD Curncy & 2024-10 & 2024-10-21 & expiry & |2024-09|2024-10|N|00|BD|15|25.00| \\\\\n",
       "\\bottomrule\n",
       "\\end{tabular}\n"
      ],
      "text/plain": [
       "<IPython.core.display.Latex object>"
      ]
     },
     "metadata": {},
     "output_type": "display_data"
    }
   ],
   "source": [
    "straddle.show(straddle.activity(\"EURUSD Curncy\",\"2024-10\"))"
   ]
  },
  {
   "cell_type": "code",
   "execution_count": 10,
   "id": "6e6b1fa4",
   "metadata": {},
   "outputs": [
    {
     "data": {
      "text/latex": [
       "\\begin{tabular}{llllll}\n",
       "\\toprule\n",
       " & Underlying & month & date & activity & straddle \\\\\n",
       "\\midrule\n",
       "0 & EURUSD Curncy & 2024-09 & 2024-09-04 & entry & |2024-09|2024-10|N|00|BD|3|25.00| \\\\\n",
       "1 & EURUSD Curncy & 2024-09 & 2024-09-04 & expiry & |2024-08|2024-09|N|00|BD|3|25.00| \\\\\n",
       "2 & EURUSD Curncy & 2024-09 & 2024-09-10 & entry & |2024-09|2024-10|N|00|BD|7|25.00| \\\\\n",
       "3 & EURUSD Curncy & 2024-09 & 2024-09-10 & expiry & |2024-08|2024-09|N|00|BD|7|25.00| \\\\\n",
       "4 & EURUSD Curncy & 2024-09 & 2024-09-16 & entry & |2024-09|2024-10|N|00|BD|11|25.00| \\\\\n",
       "5 & EURUSD Curncy & 2024-09 & 2024-09-16 & expiry & |2024-08|2024-09|N|00|BD|11|25.00| \\\\\n",
       "6 & EURUSD Curncy & 2024-09 & 2024-09-20 & entry & |2024-09|2024-10|N|00|BD|15|25.00| \\\\\n",
       "7 & EURUSD Curncy & 2024-09 & 2024-09-20 & expiry & |2024-08|2024-09|N|00|BD|15|25.00| \\\\\n",
       "\\bottomrule\n",
       "\\end{tabular}\n"
      ],
      "text/plain": [
       "<IPython.core.display.Latex object>"
      ]
     },
     "metadata": {},
     "output_type": "display_data"
    }
   ],
   "source": [
    "straddle.show(straddle.activity(\"EURUSD Curncy\",\"2024-09\"))"
   ]
  },
  {
   "cell_type": "markdown",
   "id": "bad59852",
   "metadata": {},
   "source": [
    "## SX5E"
   ]
  },
  {
   "cell_type": "code",
   "execution_count": 11,
   "id": "ab40d673",
   "metadata": {},
   "outputs": [
    {
     "data": {
      "text/latex": [
       "\\begin{tabular}{llllll}\n",
       "\\toprule\n",
       " & Underlying & month & date & activity & straddle \\\\\n",
       "\\midrule\n",
       "0 & SX5E Index & 2025-01 & 2025-01-17 & entry & |2025-01|2025-02|N|00|F|3|33.30| \\\\\n",
       "1 & SX5E Index & 2025-01 & 2025-01-17 & expiry & |2024-11|2025-01|F|10|F|3|12.50| \\\\\n",
       "2 & SX5E Index & 2025-01 & 2025-01-17 & expiry & |2024-11|2025-01|F|15|F|3|12.50| \\\\\n",
       "3 & SX5E Index & 2025-01 & 2025-01-17 & expiry & |2024-12|2025-01|N|05|F|3|33.30| \\\\\n",
       "4 & SX5E Index & 2025-01 & 2025-01-17 & expiry & |2024-12|2025-01|N|00|F|3|33.30| \\\\\n",
       "5 & SX5E Index & 2025-01 & 2025-01-24 & entry & |2025-01|2025-02|N|05|F|3|33.30| \\\\\n",
       "6 & SX5E Index & 2025-01 & 2025-01-31 & entry & |2025-01|2025-03|F|10|F|3|12.50| \\\\\n",
       "7 & SX5E Index & 2025-01 & 2025-02-07 & entry & |2025-01|2025-03|F|15|F|3|12.50| \\\\\n",
       "\\bottomrule\n",
       "\\end{tabular}\n"
      ],
      "text/plain": [
       "<IPython.core.display.Latex object>"
      ]
     },
     "metadata": {},
     "output_type": "display_data"
    }
   ],
   "source": [
    "straddle.show(straddle.activity(\"SX5E Index\",\"2025-01\"))"
   ]
  },
  {
   "cell_type": "code",
   "execution_count": 12,
   "id": "79d2964c",
   "metadata": {},
   "outputs": [
    {
     "data": {
      "text/latex": [
       "\\begin{tabular}{llllll}\n",
       "\\toprule\n",
       " & Underlying & month & date & activity & straddle \\\\\n",
       "\\midrule\n",
       "0 & SX5E Index & 2024-12 & 2024-12-20 & entry & |2024-12|2025-01|N|00|F|3|33.30| \\\\\n",
       "1 & SX5E Index & 2024-12 & 2024-12-20 & expiry & |2024-11|2024-12|N|05|F|3|33.30| \\\\\n",
       "2 & SX5E Index & 2024-12 & 2024-12-20 & expiry & |2024-10|2024-12|F|10|F|3|12.50| \\\\\n",
       "3 & SX5E Index & 2024-12 & 2024-12-20 & expiry & |2024-10|2024-12|F|15|F|3|12.50| \\\\\n",
       "4 & SX5E Index & 2024-12 & 2024-12-20 & expiry & |2024-11|2024-12|N|00|F|3|33.30| \\\\\n",
       "5 & SX5E Index & 2024-12 & 2025-01-03 & entry & |2024-12|2025-01|N|05|F|3|33.30| \\\\\n",
       "6 & SX5E Index & 2024-12 & 2025-01-10 & entry & |2024-12|2025-02|F|10|F|3|12.50| \\\\\n",
       "7 & SX5E Index & 2024-12 & 2025-01-17 & entry & |2024-12|2025-02|F|15|F|3|12.50| \\\\\n",
       "\\bottomrule\n",
       "\\end{tabular}\n"
      ],
      "text/plain": [
       "<IPython.core.display.Latex object>"
      ]
     },
     "metadata": {},
     "output_type": "display_data"
    }
   ],
   "source": [
    "straddle.show(straddle.activity(\"SX5E Index\",\"2024-12\"))"
   ]
  },
  {
   "cell_type": "code",
   "execution_count": 13,
   "id": "e9c2ce9b",
   "metadata": {},
   "outputs": [
    {
     "data": {
      "text/latex": [
       "\\begin{tabular}{llllll}\n",
       "\\toprule\n",
       " & Underlying & month & date & activity & straddle \\\\\n",
       "\\midrule\n",
       "0 & SX5E Index & 2024-11 & 2024-11-15 & entry & |2024-11|2024-12|N|00|F|3|33.30| \\\\\n",
       "1 & SX5E Index & 2024-11 & 2024-11-15 & expiry & |2024-10|2024-11|N|00|F|3|33.30| \\\\\n",
       "2 & SX5E Index & 2024-11 & 2024-11-15 & expiry & |2024-10|2024-11|N|05|F|3|33.30| \\\\\n",
       "3 & SX5E Index & 2024-11 & 2024-11-15 & expiry & |2024-09|2024-11|F|15|F|3|12.50| \\\\\n",
       "4 & SX5E Index & 2024-11 & 2024-11-15 & expiry & |2024-09|2024-11|F|10|F|3|12.50| \\\\\n",
       "5 & SX5E Index & 2024-11 & 2024-11-22 & entry & |2024-11|2024-12|N|05|F|3|33.30| \\\\\n",
       "6 & SX5E Index & 2024-11 & 2024-11-29 & entry & |2024-11|2025-01|F|10|F|3|12.50| \\\\\n",
       "7 & SX5E Index & 2024-11 & 2024-12-06 & entry & |2024-11|2025-01|F|15|F|3|12.50| \\\\\n",
       "\\bottomrule\n",
       "\\end{tabular}\n"
      ],
      "text/plain": [
       "<IPython.core.display.Latex object>"
      ]
     },
     "metadata": {},
     "output_type": "display_data"
    }
   ],
   "source": [
    "straddle.show(straddle.activity(\"SX5E Index\",\"2024-11\"))"
   ]
  },
  {
   "cell_type": "code",
   "execution_count": 14,
   "id": "318e8cdf",
   "metadata": {},
   "outputs": [
    {
     "data": {
      "text/latex": [
       "\\begin{tabular}{llllll}\n",
       "\\toprule\n",
       " & Underlying & month & date & activity & straddle \\\\\n",
       "\\midrule\n",
       "0 & SX5E Index & 2024-10 & 2024-10-18 & entry & |2024-10|2024-11|N|00|F|3|33.30| \\\\\n",
       "1 & SX5E Index & 2024-10 & 2024-10-18 & expiry & |2024-08|2024-10|F|10|F|3|12.50| \\\\\n",
       "2 & SX5E Index & 2024-10 & 2024-10-18 & expiry & |2024-09|2024-10|N|00|F|3|33.30| \\\\\n",
       "3 & SX5E Index & 2024-10 & 2024-10-18 & expiry & |2024-09|2024-10|N|05|F|3|33.30| \\\\\n",
       "4 & SX5E Index & 2024-10 & 2024-10-18 & expiry & |2024-08|2024-10|F|15|F|3|12.50| \\\\\n",
       "5 & SX5E Index & 2024-10 & 2024-10-25 & entry & |2024-10|2024-11|N|05|F|3|33.30| \\\\\n",
       "6 & SX5E Index & 2024-10 & 2024-11-01 & entry & |2024-10|2024-12|F|10|F|3|12.50| \\\\\n",
       "7 & SX5E Index & 2024-10 & 2024-11-08 & entry & |2024-10|2024-12|F|15|F|3|12.50| \\\\\n",
       "\\bottomrule\n",
       "\\end{tabular}\n"
      ],
      "text/plain": [
       "<IPython.core.display.Latex object>"
      ]
     },
     "metadata": {},
     "output_type": "display_data"
    }
   ],
   "source": [
    "straddle.show(straddle.activity(\"SX5E Index\",\"2024-10\"))"
   ]
  },
  {
   "cell_type": "markdown",
   "id": "b6f2fb3e",
   "metadata": {},
   "source": [
    "## LA Comdty"
   ]
  },
  {
   "cell_type": "code",
   "execution_count": 15,
   "id": "b7020ff0",
   "metadata": {},
   "outputs": [
    {
     "data": {
      "text/latex": [
       "\\begin{tabular}{llllll}\n",
       "\\toprule\n",
       " & Underlying & month & date & activity & straddle \\\\\n",
       "\\midrule\n",
       "\\bottomrule\n",
       "\\end{tabular}\n"
      ],
      "text/plain": [
       "<IPython.core.display.Latex object>"
      ]
     },
     "metadata": {},
     "output_type": "display_data"
    }
   ],
   "source": [
    "straddle.show(straddle.activity(\"LA Comdty\",\"2025-01\"))"
   ]
  },
  {
   "cell_type": "code",
   "execution_count": 16,
   "id": "ec5ad603",
   "metadata": {},
   "outputs": [
    {
     "data": {
      "text/latex": [
       "\\begin{tabular}{llllll}\n",
       "\\toprule\n",
       " & Underlying & month & date & activity & straddle \\\\\n",
       "\\midrule\n",
       "0 & LA Comdty & 2024-12 & 2024-12-04 & expiry & |2024-10|2024-12|F|15|OVERRIDE||12.50| \\\\\n",
       "1 & LA Comdty & 2024-12 & 2024-12-04 & expiry & |2024-10|2024-12|F|10|OVERRIDE||12.50| \\\\\n",
       "2 & LA Comdty & 2024-12 & 2024-12-04 & expiry & |2024-11|2024-12|N|00|OVERRIDE||33.30| \\\\\n",
       "3 & LA Comdty & 2024-12 & 2024-12-04 & expiry & |2024-11|2024-12|N|05|OVERRIDE||33.30| \\\\\n",
       "\\bottomrule\n",
       "\\end{tabular}\n"
      ],
      "text/plain": [
       "<IPython.core.display.Latex object>"
      ]
     },
     "metadata": {},
     "output_type": "display_data"
    }
   ],
   "source": [
    "straddle.show(straddle.activity(\"LA Comdty\",\"2024-12\"))"
   ]
  },
  {
   "cell_type": "code",
   "execution_count": 17,
   "id": "342b60ea",
   "metadata": {},
   "outputs": [
    {
     "data": {
      "text/latex": [
       "\\begin{tabular}{llllll}\n",
       "\\toprule\n",
       " & Underlying & month & date & activity & straddle \\\\\n",
       "\\midrule\n",
       "0 & LA Comdty & 2024-11 & 2024-11-06 & entry & |2024-11|2024-12|N|00|OVERRIDE||33.30| \\\\\n",
       "1 & LA Comdty & 2024-11 & 2024-11-06 & expiry & |2024-09|2024-11|F|10|OVERRIDE||12.50| \\\\\n",
       "2 & LA Comdty & 2024-11 & 2024-11-06 & expiry & |2024-10|2024-11|N|05|OVERRIDE||33.30| \\\\\n",
       "3 & LA Comdty & 2024-11 & 2024-11-06 & expiry & |2024-09|2024-11|F|15|OVERRIDE||12.50| \\\\\n",
       "4 & LA Comdty & 2024-11 & 2024-11-06 & expiry & |2024-10|2024-11|N|00|OVERRIDE||33.30| \\\\\n",
       "5 & LA Comdty & 2024-11 & 2024-11-13 & entry & |2024-11|2024-12|N|05|OVERRIDE||33.30| \\\\\n",
       "\\bottomrule\n",
       "\\end{tabular}\n"
      ],
      "text/plain": [
       "<IPython.core.display.Latex object>"
      ]
     },
     "metadata": {},
     "output_type": "display_data"
    }
   ],
   "source": [
    "straddle.show(straddle.activity(\"LA Comdty\",\"2024-11\"))"
   ]
  },
  {
   "cell_type": "code",
   "execution_count": 18,
   "id": "0f14f94e",
   "metadata": {},
   "outputs": [
    {
     "data": {
      "text/latex": [
       "\\begin{tabular}{llllll}\n",
       "\\toprule\n",
       " & Underlying & month & date & activity & straddle \\\\\n",
       "\\midrule\n",
       "0 & LA Comdty & 2024-10 & 2024-10-02 & entry & |2024-10|2024-11|N|00|OVERRIDE||33.30| \\\\\n",
       "1 & LA Comdty & 2024-10 & 2024-10-02 & expiry & |2024-09|2024-10|N|00|OVERRIDE||33.30| \\\\\n",
       "2 & LA Comdty & 2024-10 & 2024-10-02 & expiry & |2024-08|2024-10|F|10|OVERRIDE||12.50| \\\\\n",
       "3 & LA Comdty & 2024-10 & 2024-10-02 & expiry & |2024-09|2024-10|N|05|OVERRIDE||33.30| \\\\\n",
       "4 & LA Comdty & 2024-10 & 2024-10-02 & expiry & |2024-08|2024-10|F|15|OVERRIDE||12.50| \\\\\n",
       "5 & LA Comdty & 2024-10 & 2024-10-09 & entry & |2024-10|2024-11|N|05|OVERRIDE||33.30| \\\\\n",
       "6 & LA Comdty & 2024-10 & 2024-10-16 & entry & |2024-10|2024-12|F|10|OVERRIDE||12.50| \\\\\n",
       "7 & LA Comdty & 2024-10 & 2024-10-23 & entry & |2024-10|2024-12|F|15|OVERRIDE||12.50| \\\\\n",
       "\\bottomrule\n",
       "\\end{tabular}\n"
      ],
      "text/plain": [
       "<IPython.core.display.Latex object>"
      ]
     },
     "metadata": {},
     "output_type": "display_data"
    }
   ],
   "source": [
    "straddle.show(straddle.activity(\"LA Comdty\",\"2024-10\"))"
   ]
  },
  {
   "cell_type": "code",
   "execution_count": 19,
   "id": "ea3d5996",
   "metadata": {},
   "outputs": [
    {
     "data": {
      "text/latex": [
       "\\begin{tabular}{llllll}\n",
       "\\toprule\n",
       " & Underlying & month & date & activity & straddle \\\\\n",
       "\\midrule\n",
       "0 & LA Comdty & 2024-09 & 2024-09-04 & entry & |2024-09|2024-10|N|00|OVERRIDE||33.30| \\\\\n",
       "1 & LA Comdty & 2024-09 & 2024-09-04 & expiry & |2024-08|2024-09|N|05|OVERRIDE||33.30| \\\\\n",
       "2 & LA Comdty & 2024-09 & 2024-09-04 & expiry & |2024-07|2024-09|F|15|OVERRIDE||12.50| \\\\\n",
       "3 & LA Comdty & 2024-09 & 2024-09-04 & expiry & |2024-07|2024-09|F|10|OVERRIDE||12.50| \\\\\n",
       "4 & LA Comdty & 2024-09 & 2024-09-04 & expiry & |2024-08|2024-09|N|00|OVERRIDE||33.30| \\\\\n",
       "5 & LA Comdty & 2024-09 & 2024-09-11 & entry & |2024-09|2024-10|N|05|OVERRIDE||33.30| \\\\\n",
       "6 & LA Comdty & 2024-09 & 2024-09-18 & entry & |2024-09|2024-11|F|10|OVERRIDE||12.50| \\\\\n",
       "7 & LA Comdty & 2024-09 & 2024-09-25 & entry & |2024-09|2024-11|F|15|OVERRIDE||12.50| \\\\\n",
       "\\bottomrule\n",
       "\\end{tabular}\n"
      ],
      "text/plain": [
       "<IPython.core.display.Latex object>"
      ]
     },
     "metadata": {},
     "output_type": "display_data"
    }
   ],
   "source": [
    "straddle.show(straddle.activity(\"LA Comdty\",\"2024-09\"))"
   ]
  },
  {
   "cell_type": "code",
   "execution_count": 20,
   "id": "4f2bfd1a",
   "metadata": {},
   "outputs": [
    {
     "data": {
      "text/latex": [
       "\\begin{tabular}{llllll}\n",
       "\\toprule\n",
       " & Underlying & month & date & activity & straddle \\\\\n",
       "\\midrule\n",
       "0 & LA Comdty & 2024-08 & 2024-08-07 & entry & |2024-08|2024-09|N|00|OVERRIDE||33.30| \\\\\n",
       "1 & LA Comdty & 2024-08 & 2024-08-07 & expiry & |2024-06|2024-08|F|15|OVERRIDE||12.50| \\\\\n",
       "2 & LA Comdty & 2024-08 & 2024-08-07 & expiry & |2024-06|2024-08|F|10|OVERRIDE||12.50| \\\\\n",
       "3 & LA Comdty & 2024-08 & 2024-08-07 & expiry & |2024-07|2024-08|N|05|OVERRIDE||33.30| \\\\\n",
       "4 & LA Comdty & 2024-08 & 2024-08-07 & expiry & |2024-07|2024-08|N|00|OVERRIDE||33.30| \\\\\n",
       "5 & LA Comdty & 2024-08 & 2024-08-14 & entry & |2024-08|2024-09|N|05|OVERRIDE||33.30| \\\\\n",
       "6 & LA Comdty & 2024-08 & 2024-08-21 & entry & |2024-08|2024-10|F|10|OVERRIDE||12.50| \\\\\n",
       "7 & LA Comdty & 2024-08 & 2024-08-28 & entry & |2024-08|2024-10|F|15|OVERRIDE||12.50| \\\\\n",
       "\\bottomrule\n",
       "\\end{tabular}\n"
      ],
      "text/plain": [
       "<IPython.core.display.Latex object>"
      ]
     },
     "metadata": {},
     "output_type": "display_data"
    }
   ],
   "source": [
    "straddle.show(straddle.activity(\"LA Comdty\",\"2024-08\"))"
   ]
  }
 ],
 "metadata": {
  "jupytext": {
   "cell_metadata_filter": "-all",
   "main_language": "python",
   "notebook_metadata_filter": "-all"
  },
  "kernelspec": {
   "display_name": "venv",
   "language": "python",
   "name": "python3"
  },
  "language_info": {
   "codemirror_mode": {
    "name": "ipython",
    "version": 3
   },
   "file_extension": ".py",
   "mimetype": "text/x-python",
   "name": "python",
   "nbconvert_exporter": "python",
   "pygments_lexer": "ipython3",
   "version": "3.13.1"
  }
 },
 "nbformat": 4,
 "nbformat_minor": 5
}
