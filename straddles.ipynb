{
 "cells": [
  {
   "cell_type": "code",
   "execution_count": 1,
   "id": "dec55a17",
   "metadata": {
    "lines_to_next_cell": 0
   },
   "outputs": [],
   "source": [
    "import straddle_activity as straddle\n",
    "rs1 = \"result_nick_20250115_prod_0024\"\n",
    "rs2 = \"result_nick_20250121_stagger_7299\"\n",
    "straddle.result_set = rs1\n"
   ]
  },
  {
   "cell_type": "code",
   "execution_count": 2,
   "id": "39456912",
   "metadata": {},
   "outputs": [
    {
     "data": {
      "text/html": [
       "<div>\n",
       "<style scoped>\n",
       "    .dataframe tbody tr th:only-of-type {\n",
       "        vertical-align: middle;\n",
       "    }\n",
       "\n",
       "    .dataframe tbody tr th {\n",
       "        vertical-align: top;\n",
       "    }\n",
       "\n",
       "    .dataframe thead th {\n",
       "        text-align: right;\n",
       "    }\n",
       "</style>\n",
       "<table border=\"1\" class=\"dataframe\">\n",
       "  <thead>\n",
       "    <tr style=\"text-align: right;\">\n",
       "      <th></th>\n",
       "      <th>asset</th>\n",
       "      <th>month</th>\n",
       "      <th>straddle</th>\n",
       "      <th>expiry</th>\n",
       "      <th>vol</th>\n",
       "      <th>strike</th>\n",
       "      <th>mv</th>\n",
       "    </tr>\n",
       "  </thead>\n",
       "  <tbody>\n",
       "    <tr>\n",
       "      <th>0</th>\n",
       "      <td>GBPUSD Curncy</td>\n",
       "      <td>2024-12</td>\n",
       "      <td>|2024-12|2025-01|N|00|BD|12|25.00|</td>\n",
       "      <td>2025-01-16</td>\n",
       "      <td>7.225</td>\n",
       "      <td>1.2710</td>\n",
       "      <td>-0.004132</td>\n",
       "    </tr>\n",
       "    <tr>\n",
       "      <th>1</th>\n",
       "      <td>GBPUSD Curncy</td>\n",
       "      <td>2024-12</td>\n",
       "      <td>|2024-12|2025-01|N|00|BD|16|25.00|</td>\n",
       "      <td>2025-01-22</td>\n",
       "      <td>7.800</td>\n",
       "      <td>1.2536</td>\n",
       "      <td>-0.004460</td>\n",
       "    </tr>\n",
       "    <tr>\n",
       "      <th>2</th>\n",
       "      <td>GBPUSD Curncy</td>\n",
       "      <td>2024-12</td>\n",
       "      <td>|2024-12|2025-01|N|00|BD|4|25.00|</td>\n",
       "      <td>2025-01-06</td>\n",
       "      <td>6.950</td>\n",
       "      <td>1.2759</td>\n",
       "      <td>-0.004105</td>\n",
       "    </tr>\n",
       "    <tr>\n",
       "      <th>3</th>\n",
       "      <td>GBPUSD Curncy</td>\n",
       "      <td>2024-12</td>\n",
       "      <td>|2024-12|2025-01|N|00|BD|8|25.00|</td>\n",
       "      <td>2025-01-10</td>\n",
       "      <td>6.675</td>\n",
       "      <td>1.2751</td>\n",
       "      <td>-0.003817</td>\n",
       "    </tr>\n",
       "  </tbody>\n",
       "</table>\n",
       "</div>"
      ],
      "text/plain": [
       "           asset    month                            straddle     expiry  \\\n",
       "0  GBPUSD Curncy  2024-12  |2024-12|2025-01|N|00|BD|12|25.00| 2025-01-16   \n",
       "1  GBPUSD Curncy  2024-12  |2024-12|2025-01|N|00|BD|16|25.00| 2025-01-22   \n",
       "2  GBPUSD Curncy  2024-12   |2024-12|2025-01|N|00|BD|4|25.00| 2025-01-06   \n",
       "3  GBPUSD Curncy  2024-12   |2024-12|2025-01|N|00|BD|8|25.00| 2025-01-10   \n",
       "\n",
       "     vol  strike        mv  \n",
       "0  7.225  1.2710 -0.004132  \n",
       "1  7.800  1.2536 -0.004460  \n",
       "2  6.950  1.2759 -0.004105  \n",
       "3  6.675  1.2751 -0.003817  "
      ]
     },
     "execution_count": 2,
     "metadata": {},
     "output_type": "execute_result"
    }
   ],
   "source": [
    "straddle.asset_entry(\"GBPUSD Curncy\",\"2024-12\")\n"
   ]
  },
  {
   "cell_type": "code",
   "execution_count": 4,
   "id": "6c1f474e",
   "metadata": {},
   "outputs": [
    {
     "name": "stdout",
     "output_type": "stream",
     "text": [
      "      Underlying    month       date activity  \\\n",
      "0  GBPUSD Curncy  2025-01 2025-01-06    entry   \n",
      "1  GBPUSD Curncy  2025-01 2025-01-06   expiry   \n",
      "2  GBPUSD Curncy  2025-01 2025-01-10    entry   \n",
      "3  GBPUSD Curncy  2025-01 2025-01-10   expiry   \n",
      "4  GBPUSD Curncy  2025-01 2025-01-16    entry   \n",
      "5  GBPUSD Curncy  2025-01 2025-01-16   expiry   \n",
      "6  GBPUSD Curncy  2025-01 2025-01-22    entry   \n",
      "7  GBPUSD Curncy  2025-01 2025-01-22   expiry   \n",
      "\n",
      "                             straddle  \n",
      "0   |2025-01|2025-02|N|00|BD|4|25.00|  \n",
      "1   |2024-12|2025-01|N|00|BD|4|25.00|  \n",
      "2   |2025-01|2025-02|N|00|BD|8|25.00|  \n",
      "3   |2024-12|2025-01|N|00|BD|8|25.00|  \n",
      "4  |2025-01|2025-02|N|00|BD|12|25.00|  \n",
      "5  |2024-12|2025-01|N|00|BD|12|25.00|  \n",
      "6  |2025-01|2025-02|N|00|BD|16|25.00|  \n",
      "7  |2024-12|2025-01|N|00|BD|16|25.00|  \n"
     ]
    }
   ],
   "source": [
    "print(straddle.activity(\"GBPUSD Curncy\",\"2025-01\"))"
   ]
  },
  {
   "cell_type": "code",
   "execution_count": 5,
   "id": "e82d8000",
   "metadata": {},
   "outputs": [
    {
     "name": "stdout",
     "output_type": "stream",
     "text": [
      "         Underlying    month       date activity  \\\n",
      "0    AAPL US Equity  2024-12 2025-01-07    entry   \n",
      "1    AAPL US Equity  2024-12 2025-01-15    entry   \n",
      "2    ABBV US Equity  2024-12 2025-01-07    entry   \n",
      "3    ABBV US Equity  2024-12 2025-01-15    entry   \n",
      "4    ABNB US Equity  2024-12 2025-01-07    entry   \n",
      "..              ...      ...        ...      ...   \n",
      "173   WFC US Equity  2024-12 2025-01-15    entry   \n",
      "174   WMT US Equity  2024-12 2025-01-07    entry   \n",
      "175   WMT US Equity  2024-12 2025-01-15    entry   \n",
      "176   XOM US Equity  2024-12 2025-01-07    entry   \n",
      "177   XOM US Equity  2024-12 2025-01-15    entry   \n",
      "\n",
      "                             straddle  \n",
      "0    |2024-12|2025-02|F|10|F|3|12.50|  \n",
      "1    |2024-12|2025-02|F|15|F|3|12.50|  \n",
      "2    |2024-12|2025-02|F|10|F|3|12.50|  \n",
      "3    |2024-12|2025-02|F|15|F|3|12.50|  \n",
      "4    |2024-12|2025-02|F|10|F|3|12.50|  \n",
      "..                                ...  \n",
      "173  |2024-12|2025-02|F|15|F|3|12.50|  \n",
      "174  |2024-12|2025-02|F|10|F|3|12.50|  \n",
      "175  |2024-12|2025-02|F|15|F|3|12.50|  \n",
      "176  |2024-12|2025-02|F|10|F|3|12.50|  \n",
      "177  |2024-12|2025-02|F|15|F|3|12.50|  \n",
      "\n",
      "[178 rows x 5 columns]\n"
     ]
    }
   ],
   "source": [
    "print(straddle.out_activity(\"2024-12\"))"
   ]
  }
 ],
 "metadata": {
  "jupytext": {
   "cell_metadata_filter": "-all",
   "main_language": "python",
   "notebook_metadata_filter": "-all"
  },
  "kernelspec": {
   "display_name": "venv",
   "language": "python",
   "name": "python3"
  },
  "language_info": {
   "codemirror_mode": {
    "name": "ipython",
    "version": 3
   },
   "file_extension": ".py",
   "mimetype": "text/x-python",
   "name": "python",
   "nbconvert_exporter": "python",
   "pygments_lexer": "ipython3",
   "version": "3.13.1"
  }
 },
 "nbformat": 4,
 "nbformat_minor": 5
}
